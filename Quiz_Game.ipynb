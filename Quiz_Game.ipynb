{
  "nbformat": 4,
  "nbformat_minor": 0,
  "metadata": {
    "colab": {
      "provenance": [],
      "authorship_tag": "ABX9TyMjCbZbqA5rEUDYpYKn1/7T",
      "include_colab_link": true
    },
    "kernelspec": {
      "name": "python3",
      "display_name": "Python 3"
    },
    "language_info": {
      "name": "python"
    }
  },
  "cells": [
    {
      "cell_type": "markdown",
      "metadata": {
        "id": "view-in-github",
        "colab_type": "text"
      },
      "source": [
        "<a href=\"https://colab.research.google.com/github/Chandhu1206/Micro-IT/blob/main/Quiz_Game.ipynb\" target=\"_parent\"><img src=\"https://colab.research.google.com/assets/colab-badge.svg\" alt=\"Open In Colab\"/></a>"
      ]
    },
    {
      "cell_type": "code",
      "execution_count": null,
      "metadata": {
        "colab": {
          "base_uri": "https://localhost:8080/"
        },
        "id": "9B3OtKNfBXL5",
        "outputId": "c28f3bda-6789-4342-c353-1e2572c7112b"
      },
      "outputs": [
        {
          "output_type": "stream",
          "name": "stdout",
          "text": [
            "🎮 Welcome to the General Knowledge Quiz Game!\n",
            "\n",
            "Question: Who painted the Mona Lisa?\n",
            "Your Answer: Leonardo da Vinci\n",
            "✅ Correct!\n",
            "\n",
            "Question: What is the tallest mountain in the world?\n",
            "Your Answer: Mount Everest\n",
            "✅ Correct!\n",
            "\n",
            "Question: Which element has the chemical symbol 'O'?\n",
            "Your Answer: Oxygen\n",
            "✅ Correct!\n",
            "\n",
            "Question: What year did World War II end?\n",
            "Your Answer: 1945\n",
            "✅ Correct!\n",
            "\n",
            "Question: Which planet is closest to the sun?\n",
            "Your Answer: Mercury\n",
            "✅ Correct!\n",
            "\n",
            "Question: Who wrote the play 'Hamlet'?\n",
            "Your Answer: William Shakespeare\n",
            "✅ Correct!\n",
            "\n",
            "Question: What is the hardest natural substance on Earth?\n",
            "Your Answer: Diamond\n",
            "✅ Correct!\n",
            "\n",
            "Question: Which country invented pizza?\n",
            "Your Answer: Italy\n",
            "✅ Correct!\n",
            "\n",
            "Question: What gas do humans need to breathe?\n",
            "Your Answer: Oxygen\n",
            "✅ Correct!\n",
            "\n",
            "Question: Who was the first man on the moon?\n",
            "Your Answer: Sunitha Williams\n",
            "❌ Wrong! Correct answer: Neil Armstrong\n",
            "(ML model predicted: Neil Armstrong)\n",
            "\n",
            "🏁 Game Over! Your score: 9/10\n",
            "🎉 Great job! You're a quiz master!\n"
          ]
        }
      ],
      "source": [
        "import pandas as pd\n",
        "from sklearn.feature_extraction.text import TfidfVectorizer\n",
        "from sklearn.naive_bayes import MultinomialNB\n",
        "from sklearn.pipeline import Pipeline\n",
        "\n",
        "# Updated dataset\n",
        "data = {\n",
        "    'question': [\n",
        "        \"Who painted the Mona Lisa?\",\n",
        "        \"What is the tallest mountain in the world?\",\n",
        "        \"Which element has the chemical symbol 'O'?\",\n",
        "        \"What year did World War II end?\",\n",
        "        \"Which planet is closest to the sun?\",\n",
        "        \"Who wrote the play 'Hamlet'?\",\n",
        "        \"What is the hardest natural substance on Earth?\",\n",
        "        \"Which country invented pizza?\",\n",
        "        \"What gas do humans need to breathe?\",\n",
        "        \"Who was the first man on the moon?\"\n",
        "    ],\n",
        "    'answer': [\n",
        "        \"Leonardo da Vinci\",\n",
        "        \"Mount Everest\",\n",
        "        \"Oxygen\",\n",
        "        \"1945\",\n",
        "        \"Mercury\",\n",
        "        \"William Shakespeare\",=\n",
        "        \"Diamond\",\n",
        "        \"Italy\",\n",
        "        \"Oxygen\",\n",
        "        \"Neil Armstrong\"\n",
        "    ]\n",
        "}\n",
        "\n",
        "# Convert to DataFrame\n",
        "df = pd.DataFrame(data)\n",
        "X = df['question']\n",
        "y = df['answer']\n",
        "\n",
        "# Create pipeline\n",
        "model = Pipeline([\n",
        "    ('tfidf', TfidfVectorizer()),\n",
        "    ('nb', MultinomialNB())\n",
        "])\n",
        "\n",
        "# Train model\n",
        "model.fit(X, y)\n",
        "\n",
        "def quiz_game():\n",
        "    print(\"🎮 Welcome to the General Knowledge Quiz Game!\")\n",
        "    score = 0\n",
        "\n",
        "    for q in df['question']:\n",
        "        print(f\"\\nQuestion: {q}\")\n",
        "        user_answer = input(\"Your Answer: \").strip().lower()\n",
        "\n",
        "        correct_answer = df[df['question'] == q]['answer'].values[0].strip().lower()\n",
        "        predicted_answer = model.predict([q])[0].strip().lower()\n",
        "\n",
        "        if user_answer == correct_answer:\n",
        "            print(\"✅ Correct!\")\n",
        "            score += 1\n",
        "        else:\n",
        "            print(f\"❌ Wrong! Correct answer: {correct_answer.title()}\")\n",
        "            print(f\"(ML model predicted: {predicted_answer.title()})\")\n",
        "\n",
        "    print(f\"\\n🏁 Game Over! Your score: {score}/{len(df)}\")\n",
        "    if score >= 7:\n",
        "        print(\"🎉 Great job! You're a quiz master!\")\n",
        "    else:\n",
        "        print(\"📚 Keep learning and try again!\")\n",
        "\n",
        "quiz_game()\n",
        "\n"
      ]
    }
  ]
}