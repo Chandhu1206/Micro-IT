{
  "nbformat": 4,
  "nbformat_minor": 0,
  "metadata": {
    "colab": {
      "provenance": [],
      "authorship_tag": "ABX9TyPKwBQZW4KfYYGo/jDGupE+",
      "include_colab_link": true
    },
    "kernelspec": {
      "name": "python3",
      "display_name": "Python 3"
    },
    "language_info": {
      "name": "python"
    }
  },
  "cells": [
    {
      "cell_type": "markdown",
      "metadata": {
        "id": "view-in-github",
        "colab_type": "text"
      },
      "source": [
        "<a href=\"https://colab.research.google.com/github/Chandhu1206/Micro-IT/blob/main/Sentiment_Analysis.ipynb\" target=\"_parent\"><img src=\"https://colab.research.google.com/assets/colab-badge.svg\" alt=\"Open In Colab\"/></a>"
      ]
    },
    {
      "cell_type": "code",
      "execution_count": 6,
      "metadata": {
        "colab": {
          "base_uri": "https://localhost:8080/"
        },
        "id": "EGPF91AP8IAV",
        "outputId": "555cdbf7-c8c8-41c4-e7af-4b1988113701"
      },
      "outputs": [
        {
          "output_type": "stream",
          "name": "stdout",
          "text": [
            "Classification Report:\n",
            "\n",
            "              precision    recall  f1-score   support\n",
            "\n",
            "    negative       0.00      0.00      0.00         1\n",
            "     neutral       0.67      1.00      0.80         2\n",
            "    positive       0.00      0.00      0.00         2\n",
            "\n",
            "    accuracy                           0.40         5\n",
            "   macro avg       0.22      0.33      0.27         5\n",
            "weighted avg       0.27      0.40      0.32         5\n",
            "\n",
            "Accuracy Score: 0.4\n",
            "\n",
            "Custom Predictions:\n",
            "Text: It is ok, but not the best --> Predicted Sentiment: neutral\n",
            "Text: You are the worst person --> Predicted Sentiment: neutral\n",
            "Text: Well done! --> Predicted Sentiment: neutral\n",
            "Text: Keep it up! --> Predicted Sentiment: neutral\n",
            "Text: You are cunning and a bad person --> Predicted Sentiment: negative\n",
            "Text: The product arrived on time. --> Predicted Sentiment: neutral\n",
            "Text: It’s neither good nor bad, just better --> Predicted Sentiment: neutral\n",
            "Text: I have not used it much yet --> Predicted Sentiment: neutral\n"
          ]
        }
      ],
      "source": [
        "import pandas as pd\n",
        "import re\n",
        "from sklearn.model_selection import train_test_split\n",
        "from sklearn.feature_extraction.text import TfidfVectorizer\n",
        "from sklearn.linear_model import LogisticRegression\n",
        "from sklearn.metrics import classification_report, accuracy_score\n",
        "\n",
        "# Step 1: Sample Dataset\n",
        "data = {\n",
        "    'text': [\n",
        "        'The movie was fantastic, I enjoyed every moment.',\n",
        "        'This is the worst service I have ever received.',\n",
        "        'The experience was fine, nothing too exciting.',\n",
        "        'Absolutely love this place!',\n",
        "        'I would never recommend this to anyone.',\n",
        "        'It was an average performance.',\n",
        "        'I am extremely satisfied with the results.',\n",
        "        'Very disappointed and frustrated.',\n",
        "        'It met my expectations but didn’t exceed them.',\n",
        "        'Wonderful atmosphere and friendly staff!',\n",
        "        'The package arrived, but I haven’t opened it yet.',\n",
        "        'Service was neither fast nor slow.',\n",
        "        'The presentation was okay, not too impressive.',\n",
        "        'I regret buying this product.',\n",
        "        'Best decision I’ve made this year!'\n",
        "    ],\n",
        "    'sentiment': [\n",
        "        'positive', 'negative', 'neutral', 'positive', 'negative',\n",
        "        'neutral', 'positive', 'negative', 'neutral', 'positive',\n",
        "        'neutral', 'neutral', 'neutral', 'negative', 'positive'\n",
        "    ]\n",
        "}\n",
        "\n",
        "# Step 2: Create DataFrame\n",
        "df = pd.DataFrame(data)\n",
        "\n",
        "# Step 3: Preprocessing\n",
        "def clean_text(text):\n",
        "    text = text.lower()\n",
        "    text = re.sub(r'[^a-z\\s]', '', text)\n",
        "    return text\n",
        "\n",
        "df['text'] = df['text'].apply(clean_text)\n",
        "\n",
        "# Step 4: Split data\n",
        "X_train, X_test, y_train, y_test = train_test_split(df['text'], df['sentiment'], test_size=0.3, random_state=42)\n",
        "\n",
        "# Step 5: Vectorize text using TF-IDF\n",
        "vectorizer = TfidfVectorizer()\n",
        "X_train_vec = vectorizer.fit_transform(X_train)\n",
        "X_test_vec = vectorizer.transform(X_test)\n",
        "\n",
        "# Step 6: Train Logistic Regression model\n",
        "model = LogisticRegression(max_iter=1000)\n",
        "model.fit(X_train_vec, y_train)\n",
        "\n",
        "# Step 7: Evaluate\n",
        "y_pred = model.predict(X_test_vec)\n",
        "print(\"Classification Report:\\n\")\n",
        "print(classification_report(y_test, y_pred))\n",
        "print(\"Accuracy Score:\", accuracy_score(y_test, y_pred))\n",
        "\n",
        "# Step 8: Custom Predictions\n",
        "custom_inputs = [\n",
        "    \"It is ok, but not the best\",\n",
        "    \"You are the worst person\",\n",
        "    \"Well done!\",\n",
        "    \"Keep it up!\",\n",
        "    \"You are cunning and a bad person\",\n",
        "    \"The product arrived on time.\",\n",
        "    \"It’s neither good nor bad, just better\",\n",
        "    \"I have not used it much yet\"\n",
        "]\n",
        "\n",
        "print(\"\\nCustom Predictions:\")\n",
        "for text in custom_inputs:\n",
        "    cleaned = clean_text(text)\n",
        "    vec = vectorizer.transform([cleaned])\n",
        "    pred = model.predict(vec)[0]\n",
        "    print(f\"Text: {text} --> Predicted Sentiment: {pred}\")\n"
      ]
    }
  ]
}